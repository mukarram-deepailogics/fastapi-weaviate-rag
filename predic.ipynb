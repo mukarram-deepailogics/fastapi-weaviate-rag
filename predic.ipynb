{
 "cells": [
  {
   "cell_type": "code",
   "execution_count": 8,
   "metadata": {},
   "outputs": [],
   "source": [
    "from typing import List, Dict\n",
    "\n",
    "def chunk_document(document_content: str, chunk_size: int, overlap: int) -> List[Dict]:\n",
    "    if chunk_size <= 0 or overlap < 0 or overlap >= chunk_size:\n",
    "        raise ValueError(\"Invalid chunk_size or overlap parameters\")\n",
    "    \n",
    "    if not document_content:\n",
    "        return []\n",
    "\n",
    "    characters_per_page = 2000\n",
    "    chunks = []\n",
    "    start_idx = 0\n",
    "    chunk_index = 0\n",
    "    content_length = len(document_content)\n",
    "\n",
    "    while start_idx < content_length:\n",
    "        end_idx = min(start_idx + chunk_size, content_length)\n",
    "        chunk_content = document_content[start_idx:end_idx]\n",
    "        \n",
    "        page_number = (start_idx // characters_per_page) + 1\n",
    "        \n",
    "        chunks.append({\n",
    "            \"content\": chunk_content,\n",
    "            \"chunk_index\": chunk_index,\n",
    "            \"page_number\": page_number\n",
    "        })\n",
    "        \n",
    "        if end_idx == content_length:\n",
    "            break\n",
    "            \n",
    "        start_idx += chunk_size - overlap\n",
    "        chunk_index += 1\n",
    "\n",
    "    return chunks"
   ]
  },
  {
   "cell_type": "code",
   "execution_count": 9,
   "metadata": {},
   "outputs": [],
   "source": [
    "text = \"1234567890ABCDEFGHIJ\"\n",
    "result = chunk_document(text, chunk_size=10, overlap=3)\n"
   ]
  },
  {
   "cell_type": "code",
   "execution_count": 10,
   "metadata": {},
   "outputs": [
    {
     "data": {
      "text/plain": [
       "[{'content': '1234567890', 'chunk_index': 0, 'page_number': 1},\n",
       " {'content': '890ABCDEFG', 'chunk_index': 1, 'page_number': 1},\n",
       " {'content': 'EFGHIJ', 'chunk_index': 2, 'page_number': 1}]"
      ]
     },
     "execution_count": 10,
     "metadata": {},
     "output_type": "execute_result"
    }
   ],
   "source": [
    "result"
   ]
  },
  {
   "cell_type": "code",
   "execution_count": 11,
   "metadata": {},
   "outputs": [],
   "source": [
    "from langchain.text_splitter import CharacterTextSplitter\n",
    "from typing import List, Dict\n",
    "\n",
    "def chunk_document_TS(document_content: str, chunk_size: int, overlap: int) -> List[Dict]:\n",
    "    \n",
    "    text_splitter = CharacterTextSplitter(\n",
    "        chunk_size=chunk_size,\n",
    "        chunk_overlap=overlap,\n",
    "        length_function=len,\n",
    "        separator=\"\"\n",
    "    )\n",
    "    chunks = text_splitter.split_text(document_content)\n",
    "    start_indexes = []\n",
    "    current_pos = 0\n",
    "    for chunk in chunks:\n",
    "        start_indexes.append(current_pos)\n",
    "        current_pos += len(chunk) - overlap\n",
    "    return [\n",
    "        {\n",
    "            \"content\": chunk,\n",
    "            \"chunk_index\": idx,\n",
    "            \"page_number\": (start_idx // 2000) + 1\n",
    "        }\n",
    "        for idx, (chunk, start_idx) in enumerate(zip(chunks, start_indexes))\n",
    "    ]"
   ]
  },
  {
   "cell_type": "code",
   "execution_count": 14,
   "metadata": {},
   "outputs": [],
   "source": [
    "text = \"1234567890ABCDEFGHIJ\"\n",
    "result2 = chunk_document_TS(text, chunk_size=10, overlap=3)"
   ]
  },
  {
   "cell_type": "code",
   "execution_count": 15,
   "metadata": {},
   "outputs": [
    {
     "data": {
      "text/plain": [
       "[{'content': '1234567890', 'chunk_index': 0, 'page_number': 1},\n",
       " {'content': '890ABCDEFG', 'chunk_index': 1, 'page_number': 1},\n",
       " {'content': 'EFGHIJ', 'chunk_index': 2, 'page_number': 1}]"
      ]
     },
     "execution_count": 15,
     "metadata": {},
     "output_type": "execute_result"
    }
   ],
   "source": [
    "result2"
   ]
  },
  {
   "cell_type": "code",
   "execution_count": null,
   "metadata": {},
   "outputs": [],
   "source": []
  }
 ],
 "metadata": {
  "kernelspec": {
   "display_name": "Python 3",
   "language": "python",
   "name": "python3"
  },
  "language_info": {
   "codemirror_mode": {
    "name": "ipython",
    "version": 3
   },
   "file_extension": ".py",
   "mimetype": "text/x-python",
   "name": "python",
   "nbconvert_exporter": "python",
   "pygments_lexer": "ipython3",
   "version": "3.13.2"
  }
 },
 "nbformat": 4,
 "nbformat_minor": 2
}
